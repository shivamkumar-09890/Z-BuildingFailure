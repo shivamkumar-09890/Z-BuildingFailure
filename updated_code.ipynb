{
 "cells": [
  {
   "cell_type": "markdown",
   "id": "5034bd8e",
   "metadata": {},
   "source": [
    "The task is a multi-class supervised learning problem to predict the damage classification of buildings \n",
    "as a result of the Gorkha earthquake in April 2015. The earthquake in question was 7.8 in magnitude and \n",
    "occured near the Gorkha district of Gandaki Pradesh, Nepal. Almost 9,000 lives were lost, millions of people\n",
    "were instantly made homeless, and $10 billion in damages about half of Nepal's nominal GDP was incurred.\n",
    "This analysis is applied to one of the largest post-disaster datasets ever collected, containing valuable \n",
    "information on earthquake impacts, household conditions, and socio-economic-demographic statistics. The \n",
    "target variable has 5 classes, labelled 'Grade 1':'Grade 5' which each represent the different scale of \n",
    "damage sustained to the building."
   ]
  },
  {
   "cell_type": "code",
   "execution_count": 1,
   "id": "3e31e78a",
   "metadata": {},
   "outputs": [],
   "source": [
    "# importing library "
   ]
  },
  {
   "cell_type": "code",
   "execution_count": 2,
   "id": "7a0bc87a",
   "metadata": {},
   "outputs": [],
   "source": [
    "import numpy as np # linear algebra\n",
    "import pandas as pd # dataframes\n",
    "import matplotlib.pyplot as plt # General visualisations\n",
    "import matplotlib.ticker as mtick # Axis visuals\n",
    "import seaborn as sns # Statistical visualisations\n",
    "from math import pi # Radar chart support"
   ]
  },
  {
   "cell_type": "code",
   "execution_count": 3,
   "id": "5ac85495",
   "metadata": {},
   "outputs": [],
   "source": [
    "# reading dataset"
   ]
  },
  {
   "cell_type": "code",
   "execution_count": 4,
   "id": "b9551ad5",
   "metadata": {},
   "outputs": [
    {
     "name": "stderr",
     "output_type": "stream",
     "text": [
      "C:\\Users\\Shivam\\AppData\\Local\\Temp\\ipykernel_12480\\3321414726.py:1: DtypeWarning: Columns (17,29,34,35,36,37,38,39,40,41,42,47,50) have mixed types. Specify dtype option on import or set low_memory=False.\n",
      "  dataset0 = pd.read_csv('csv_building_damage_assessment.csv')\n"
     ]
    }
   ],
   "source": [
    "dataset0 = pd.read_csv('csv_building_damage_assessment.csv')"
   ]
  },
  {
   "cell_type": "code",
   "execution_count": 5,
   "id": "edf5aabd",
   "metadata": {},
   "outputs": [
    {
     "data": {
      "text/plain": [
       "(762106, 79)"
      ]
     },
     "execution_count": 5,
     "metadata": {},
     "output_type": "execute_result"
    }
   ],
   "source": [
    "dataset0.shape"
   ]
  },
  {
   "cell_type": "code",
   "execution_count": 6,
   "id": "b8edac15",
   "metadata": {},
   "outputs": [],
   "source": [
    "# the model is not strong to compute a dataset with so many rows so the below line reduce the dataset to just 1000 rows"
   ]
  },
  {
   "cell_type": "code",
   "execution_count": 7,
   "id": "380921ca",
   "metadata": {},
   "outputs": [],
   "source": [
    "dataset =dataset0.head(1000)"
   ]
  },
  {
   "cell_type": "code",
   "execution_count": 8,
   "id": "c2b2db2b",
   "metadata": {},
   "outputs": [],
   "source": [
    "# analyzing number of null values in the dataset"
   ]
  },
  {
   "cell_type": "code",
   "execution_count": 9,
   "id": "ff4b5853",
   "metadata": {},
   "outputs": [
    {
     "name": "stdout",
     "output_type": "stream",
     "text": [
      "                                 index  count\n",
      "0                          building_id      0\n",
      "1                          district_id      0\n",
      "2                            vdcmun_id      0\n",
      "3                              ward_id      0\n",
      "4              damage_overall_collapse     58\n",
      "..                                 ...    ...\n",
      "74  has_geotechnical_risk_liquefaction      0\n",
      "75     has_geotechnical_risk_landslide      0\n",
      "76     has_geotechnical_risk_rock_fall      0\n",
      "77         has_geotechnical_risk_flood      0\n",
      "78         has_geotechnical_risk_other      0\n",
      "\n",
      "[79 rows x 2 columns]\n"
     ]
    }
   ],
   "source": [
    "df_temp = dataset.isnull().sum().reset_index(name='count')\n",
    "print(df_temp)"
   ]
  },
  {
   "cell_type": "markdown",
   "id": "2f42c053",
   "metadata": {},
   "source": [
    " changing the data type "
   ]
  },
  {
   "cell_type": "code",
   "execution_count": 10,
   "id": "dda8ede6",
   "metadata": {},
   "outputs": [],
   "source": [
    "dataset = dataset.astype({'district_id': 'int', 'vdcmun_id': 'int', 'ward_id': 'int'})"
   ]
  },
  {
   "cell_type": "markdown",
   "id": "0623d9c4",
   "metadata": {},
   "source": [
    "To start we look at the distribution of the target variable, we can see the occurence of each grade increases with the classification. Such that Grade 1 occurs the most frequently in the dataset while Grade 5 appears the least frequently. As this is a classifcation problem, we can see that it is unbalanced, with different grades accounting for very different proprotions of observations."
   ]
  },
  {
   "cell_type": "code",
   "execution_count": 11,
   "id": "93db929d",
   "metadata": {
    "scrolled": true
   },
   "outputs": [
    {
     "data": {
      "image/png": "[encoded data removed]",
      "text/plain": [
       "<Figure size 1200x500 with 1 Axes>"
      ]
     },
     "metadata": {},
     "output_type": "display_data"
    }
   ],
   "source": [
    " plt.figure(figsize=(12,5))\n",
    "ax = sns.countplot(x='damage_grade', data=dataset, order = ['Grade 1', 'Grade 2', 'Grade 3', 'Grade 4', 'Grade 5'])\n",
    "ax.yaxis.set_major_formatter(mtick.StrMethodFormatter('{x:,.0f}'))\n",
    "plt.title(\"Distribution of Damage Grade\")\n",
    "plt.xlabel(\"Damage Grading\")\n",
    "plt.show()"
   ]
  },
  {
   "cell_type": "code",
   "execution_count": 12,
   "id": "7ece09aa",
   "metadata": {
    "scrolled": true
   },
   "outputs": [
    {
     "name": "stdout",
     "output_type": "stream",
     "text": [
      "<class 'pandas.core.frame.DataFrame'>\n",
      "RangeIndex: 1000 entries, 0 to 999\n",
      "Data columns (total 79 columns):\n",
      " #   Column                                                Non-Null Count  Dtype  \n",
      "---  ------                                                --------------  -----  \n",
      " 0   building_id                                           1000 non-null   int64  \n",
      " 1   district_id                                           1000 non-null   int32  \n",
      " 2   vdcmun_id                                             1000 non-null   int32  \n",
      " 3   ward_id                                               1000 non-null   int32  \n",
      " 4   damage_overall_collapse                               942 non-null    object \n",
      " 5   damage_overall_leaning                                942 non-null    object \n",
      " 6   damage_overall_adjacent_building_risk                 942 non-null    object \n",
      " 7   damage_foundation_severe                              614 non-null    object \n",
      " 8   damage_foundation_moderate                            32 non-null     object \n",
      " 9   damage_foundation_insignificant                       294 non-null    object \n",
      " 10  damage_roof_severe                                    540 non-null    object \n",
      " 11  damage_roof_moderate                                  21 non-null     object \n",
      " 12  damage_roof_insignificant                             382 non-null    object \n",
      " 13  damage_corner_separation_severe                       287 non-null    object \n",
      " 14  damage_corner_separation_moderate                     221 non-null    object \n",
      " 15  damage_corner_separation_insignificant                435 non-null    object \n",
      " 16  damage_diagonal_cracking_severe                       273 non-null    object \n",
      " 17  damage_diagonal_cracking_moderate                     275 non-null    object \n",
      " 18  damage_diagonal_cracking_insignificant                394 non-null    object \n",
      " 19  damage_in_plane_failure_severe                        343 non-null    object \n",
      " 20  damage_in_plane_failure_moderate                      106 non-null    object \n",
      " 21  damage_in_plane_failure_insignificant                 493 non-null    object \n",
      " 22  damage_out_of_plane_failure_severe                    282 non-null    object \n",
      " 23  damage_out_of_plane_failure_moderate                  178 non-null    object \n",
      " 24  damage_out_of_plane_failure_insignificant             483 non-null    object \n",
      " 25  damage_out_of_plane_failure_walls_ncfr_severe         232 non-null    object \n",
      " 26  damage_out_of_plane_failure_walls_ncfr_moderate       62 non-null     object \n",
      " 27  damage_out_of_plane_failure_walls_ncfr_insignificant  648 non-null    object \n",
      " 28  damage_gable_failure_severe                           353 non-null    object \n",
      " 29  damage_gable_failure_moderate                         30 non-null     object \n",
      " 30  damage_gable_failure_insignificant                    260 non-null    object \n",
      " 31  damage_delamination_failure_severe                    667 non-null    object \n",
      " 32  damage_delamination_failure_moderate                  12 non-null     object \n",
      " 33  damage_delamination_failure_insignificant             245 non-null    object \n",
      " 34  damage_column_failure_severe                          0 non-null      object \n",
      " 35  damage_column_failure_moderate                        0 non-null      object \n",
      " 36  damage_column_failure_insignificant                   0 non-null      object \n",
      " 37  damage_beam_failure_severe                            0 non-null      object \n",
      " 38  damage_beam_failure_moderate                          0 non-null      object \n",
      " 39  damage_beam_failure_insignificant                     0 non-null      object \n",
      " 40  damage_infill_partition_failure_severe                0 non-null      object \n",
      " 41  damage_infill_partition_failure_moderate              0 non-null      object \n",
      " 42  damage_infill_partition_failure_insignificant         0 non-null      object \n",
      " 43  damage_staircase_severe                               522 non-null    object \n",
      " 44  damage_staircase_moderate                             2 non-null      object \n",
      " 45  damage_staircase_insignificant                        29 non-null     object \n",
      " 46  damage_parapet_severe                                 463 non-null    object \n",
      " 47  damage_parapet_moderate                               1 non-null      object \n",
      " 48  damage_parapet_insignificant                          41 non-null     object \n",
      " 49  damage_cladding_glazing_severe                        403 non-null    object \n",
      " 50  damage_cladding_glazing_moderate                      0 non-null      object \n",
      " 51  damage_cladding_glazing_insignificant                 1 non-null      object \n",
      " 52  area_assesed                                          1000 non-null   object \n",
      " 53  damage_grade                                          1000 non-null   object \n",
      " 54  technical_solution_proposed                           1000 non-null   object \n",
      " 55  has_repair_started                                    799 non-null    float64\n",
      " 56  has_damage_foundation                                 617 non-null    float64\n",
      " 57  has_damage_roof                                       540 non-null    float64\n",
      " 58  has_damage_corner_separation                          287 non-null    float64\n",
      " 59  has_damage_diagonal_cracking                          273 non-null    float64\n",
      " 60  has_damage_in_plane_failure                           343 non-null    float64\n",
      " 61  has_damage_out_of_plane_failure                       282 non-null    float64\n",
      " 62  has_damage_out_of_plane_walls_ncfr_failure            232 non-null    float64\n",
      " 63  has_damage_gable_failure                              652 non-null    float64\n",
      " 64  has_damage_delamination_failure                       685 non-null    float64\n",
      " 65  has_damage_column_failure                             0 non-null      float64\n",
      " 66  has_damage_beam_failure                               0 non-null      float64\n",
      " 67  has_damage_infill_partition_failure                   0 non-null      float64\n",
      " 68  has_damage_staircase                                  911 non-null    float64\n",
      " 69  has_damage_parapet                                    900 non-null    float64\n",
      " 70  has_damage_cladding_glazing                           941 non-null    float64\n",
      " 71  has_geotechnical_risk                                 1000 non-null   float64\n",
      " 72  has_geotechnical_risk_land_settlement                 1000 non-null   int64  \n",
      " 73  has_geotechnical_risk_fault_crack                     1000 non-null   int64  \n",
      " 74  has_geotechnical_risk_liquefaction                    1000 non-null   int64  \n",
      " 75  has_geotechnical_risk_landslide                       1000 non-null   int64  \n",
      " 76  has_geotechnical_risk_rock_fall                       1000 non-null   int64  \n",
      " 77  has_geotechnical_risk_flood                           1000 non-null   int64  \n",
      " 78  has_geotechnical_risk_other                           1000 non-null   int64  \n",
      "dtypes: float64(17), int32(3), int64(8), object(51)\n",
      "memory usage: 605.6+ KB\n"
     ]
    }
   ],
   "source": [
    "dataset.info()"
   ]
  },
  {
   "cell_type": "code",
   "execution_count": 13,
   "id": "2c0f8a93",
   "metadata": {},
   "outputs": [],
   "source": [
    "import math"
   ]
  },
  {
   "cell_type": "markdown",
   "id": "5e63cc71",
   "metadata": {},
   "source": [
    "we need to do a analysis on the dataset for which we need to convert the catagorical dataset in to numerical.  in this data set \n",
    "we have option to either go for onehoteencoder or to replace directly with the number. as shown below the data can be correleted with integers. hence inorder to maitain the data size we can easly interpret the data with number. "
   ]
  },
  {
   "cell_type": "code",
   "execution_count": 14,
   "id": "420711f9",
   "metadata": {
    "scrolled": true
   },
   "outputs": [
    {
     "data": {
      "text/plain": [
       "array(['None', 'Insignificant/light', 'Moderate-Heavy', nan], dtype=object)"
      ]
     },
     "execution_count": 14,
     "metadata": {},
     "output_type": "execute_result"
    }
   ],
   "source": [
    "dataset['damage_overall_adjacent_building_risk']. nunique()\n",
    "dataset.damage_overall_adjacent_building_risk.unique()"
   ]
  },
  {
   "cell_type": "markdown",
   "id": "2be0c7eb",
   "metadata": {},
   "source": [
    "here we have three distict entry 'None', 'Insignificant/light', 'Moderate-Heavy'. we can say that mathematical value of each is 0 , 1 , 3 respectivly and can proceed the analysis. same this is done for other 4 columns also."
   ]
  },
  {
   "cell_type": "code",
   "execution_count": 15,
   "id": "a95bcecc",
   "metadata": {},
   "outputs": [],
   "source": [
    "dataset=dataset.replace({'damage_overall_adjacent_building_risk' : { 'Insignificant/light' : 1, 'Moderate-Heavy' : 3, 'None' : 0 }})\n"
   ]
  },
  {
   "cell_type": "code",
   "execution_count": null,
   "id": "309330a9",
   "metadata": {},
   "outputs": [],
   "source": []
  },
  {
   "cell_type": "code",
   "execution_count": 16,
   "id": "19b4e7a5",
   "metadata": {},
   "outputs": [
    {
     "data": {
      "text/plain": [
       "array(['Insignificant/light', 'Severe-Extreme', 'Moderate-Heavy', 'None',\n",
       "       nan], dtype=object)"
      ]
     },
     "execution_count": 16,
     "metadata": {},
     "output_type": "execute_result"
    }
   ],
   "source": [
    "dataset['damage_overall_leaning']. nunique()\n",
    "dataset.damage_overall_leaning.unique()"
   ]
  },
  {
   "cell_type": "code",
   "execution_count": 17,
   "id": "0cef0503",
   "metadata": {},
   "outputs": [],
   "source": [
    "dataset=dataset.replace({'damage_overall_leaning' : { 'Insignificant/light' : 1, 'Moderate-Heavy' : 2, 'None' : 0,'Severe-Extreme' : 4 }})\n"
   ]
  },
  {
   "cell_type": "code",
   "execution_count": 18,
   "id": "c1daf538",
   "metadata": {},
   "outputs": [
    {
     "data": {
      "text/plain": [
       "array([ 0.,  1., nan])"
      ]
     },
     "execution_count": 18,
     "metadata": {},
     "output_type": "execute_result"
    }
   ],
   "source": [
    "dataset['has_repair_started']. nunique()\n",
    "dataset.has_repair_started.unique()"
   ]
  },
  {
   "cell_type": "code",
   "execution_count": null,
   "id": "c4de6d89",
   "metadata": {},
   "outputs": [],
   "source": []
  },
  {
   "cell_type": "code",
   "execution_count": 19,
   "id": "6af6b362",
   "metadata": {},
   "outputs": [
    {
     "data": {
      "text/plain": [
       "array([ 0.,  1., nan])"
      ]
     },
     "execution_count": 19,
     "metadata": {},
     "output_type": "execute_result"
    }
   ],
   "source": [
    "dataset['has_damage_staircase']. nunique()\n",
    "dataset.has_damage_staircase.unique()"
   ]
  },
  {
   "cell_type": "code",
   "execution_count": null,
   "id": "120f581c",
   "metadata": {},
   "outputs": [],
   "source": []
  },
  {
   "cell_type": "code",
   "execution_count": 20,
   "id": "2cd9ca2c",
   "metadata": {},
   "outputs": [
    {
     "data": {
      "text/plain": [
       "array(['Severe-Extreme-(<1/3)', 'Severe-Extreme-(>2/3)', nan, 'None'],\n",
       "      dtype=object)"
      ]
     },
     "execution_count": 20,
     "metadata": {},
     "output_type": "execute_result"
    }
   ],
   "source": [
    "dataset['damage_roof_severe']. nunique()\n",
    "dataset.damage_roof_severe.unique()"
   ]
  },
  {
   "cell_type": "code",
   "execution_count": 21,
   "id": "3b0b7e8d",
   "metadata": {},
   "outputs": [],
   "source": [
    "dataset=dataset.replace({'damage_roof_severe' : { 'Severe-Extreme-(<1/3)' : 2, 'Severe-Extreme-(>2/3)' : 4, 'None' : 0 }})\n"
   ]
  },
  {
   "cell_type": "code",
   "execution_count": 22,
   "id": "184a59a1",
   "metadata": {},
   "outputs": [
    {
     "name": "stdout",
     "output_type": "stream",
     "text": [
      "0      2.0\n",
      "1      4.0\n",
      "2      NaN\n",
      "3      NaN\n",
      "4      NaN\n",
      "      ... \n",
      "995    NaN\n",
      "996    NaN\n",
      "997    NaN\n",
      "998    4.0\n",
      "999    NaN\n",
      "Name: damage_roof_severe, Length: 1000, dtype: float64\n"
     ]
    }
   ],
   "source": [
    "print(dataset.damage_roof_severe)"
   ]
  },
  {
   "cell_type": "code",
   "execution_count": 23,
   "id": "ee8b9bcc",
   "metadata": {},
   "outputs": [
    {
     "data": {
      "text/plain": [
       "array(['Grade 3', 'Grade 5', 'Grade 2', 'Grade 1', 'Grade 4'],\n",
       "      dtype=object)"
      ]
     },
     "execution_count": 23,
     "metadata": {},
     "output_type": "execute_result"
    }
   ],
   "source": [
    "dataset.damage_grade.unique()"
   ]
  },
  {
   "cell_type": "code",
   "execution_count": 24,
   "id": "e2783a36",
   "metadata": {},
   "outputs": [],
   "source": [
    "dataset=dataset.replace({'damage_grade' : { 'Grade 3' : 3, 'Grade 5' : 5, 'Grade 2' : 2,'Grade 1': 1,'Grade 4' : 4}})\n"
   ]
  },
  {
   "cell_type": "code",
   "execution_count": 25,
   "id": "be5e9b0c",
   "metadata": {},
   "outputs": [],
   "source": [
    "# Split the data into features and target\n",
    "X = dataset.loc[:1000, ['damage_overall_adjacent_building_risk','damage_overall_leaning','has_repair_started','has_damage_staircase','damage_roof_severe']]\n",
    "y = dataset.loc[:1000, ['damage_grade']]"
   ]
  },
  {
   "cell_type": "markdown",
   "id": "dfe3734f",
   "metadata": {},
   "source": [
    "Below we have used sklearn libraray only to fill the missing values with the mean of all the values in that column. doing this final step. our data is ready for analsis."
   ]
  },
  {
   "cell_type": "code",
   "execution_count": 26,
   "id": "98f72c03",
   "metadata": {},
   "outputs": [],
   "source": [
    "from sklearn.impute import SimpleImputer\n",
    "imputer = SimpleImputer(missing_values = np.nan, strategy = 'mean',verbose=0)\n",
    "imputer = imputer.fit(X.iloc[:, 0:5])\n",
    "X.iloc[:, 0:5] = imputer.transform(X.iloc[:, 0:5])"
   ]
  },
  {
   "cell_type": "markdown",
   "id": "9076e1e7",
   "metadata": {},
   "source": [
    "so till now we have got proper columns to analyze the grade of didtruction of building. we can se variable x below."
   ]
  },
  {
   "cell_type": "code",
   "execution_count": 27,
   "id": "d7e8ae88",
   "metadata": {
    "scrolled": true
   },
   "outputs": [
    {
     "name": "stdout",
     "output_type": "stream",
     "text": [
      "     damage_overall_adjacent_building_risk  damage_overall_leaning  \\\n",
      "0                                      0.0                     1.0   \n",
      "1                                      1.0                     4.0   \n",
      "2                                      3.0                     2.0   \n",
      "3                                      3.0                     2.0   \n",
      "4                                      0.0                     0.0   \n",
      "..                                     ...                     ...   \n",
      "995                                    0.0                     1.0   \n",
      "996                                    0.0                     1.0   \n",
      "997                                    0.0                     2.0   \n",
      "998                                    0.0                     2.0   \n",
      "999                                    0.0                     1.0   \n",
      "\n",
      "     has_repair_started  has_damage_staircase  damage_roof_severe  \n",
      "0                   0.0              0.000000            2.000000  \n",
      "1                   1.0              0.000000            4.000000  \n",
      "2                   1.0              1.000000            0.144444  \n",
      "3                   1.0              0.428101            0.144444  \n",
      "4                   1.0              0.000000            0.144444  \n",
      "..                  ...                   ...                 ...  \n",
      "995                 1.0              0.000000            0.144444  \n",
      "996                 1.0              0.000000            0.144444  \n",
      "997                 0.0              0.000000            0.144444  \n",
      "998                 0.0              0.000000            4.000000  \n",
      "999                 1.0              0.000000            0.144444  \n",
      "\n",
      "[1000 rows x 5 columns]\n"
     ]
    }
   ],
   "source": [
    "print(X)"
   ]
  },
  {
   "cell_type": "code",
   "execution_count": 29,
   "id": "9d6050b9",
   "metadata": {},
   "outputs": [],
   "source": [
    "from sklearn.model_selection import train_test_split\n",
    "X_train, X_test, y_train, y_test = train_test_split(X , y, test_size = 0.2)"
   ]
  },
  {
   "cell_type": "markdown",
   "id": "43962be5",
   "metadata": {},
   "source": [
    "now below we have made the model ready. we have used decision tree for analysing the data set."
   ]
  },
  {
   "cell_type": "code",
   "execution_count": 30,
   "id": "3916093e",
   "metadata": {},
   "outputs": [],
   "source": [
    "# Define a function to calculate the mean squared error\n",
    "def mean_squared_error(y):\n",
    "    if len(y) == 0:\n",
    "        return 0\n",
    "    mean = sum(y) / len(y)\n",
    "    return sum((yi - mean) ** 2 for yi in y) / len(y)"
   ]
  },
  {
   "cell_type": "code",
   "execution_count": 31,
   "id": "5e17d971",
   "metadata": {},
   "outputs": [],
   "source": [
    "# Define a function to find the best split for a feature\n",
    "def find_best_split(X, y):\n",
    "    num_samples, num_features = X.shape\n",
    "    if num_samples <= 1:\n",
    "        return None, None\n",
    "\n",
    "    current_error = mean_squared_error(y)\n",
    "    best_error = float('inf')\n",
    "    best_split = None\n",
    "    best_split_value = None\n",
    "\n",
    "    for feature in range(num_features):\n",
    "        feature_values = X[:, feature]\n",
    "        unique_values = np.unique(feature_values)\n",
    "        for value in unique_values:\n",
    "            left_mask = feature_values <= value\n",
    "            right_mask = feature_values > value\n",
    "            left_y = y[left_mask]\n",
    "            right_y = y[right_mask]\n",
    "\n",
    "            if len(left_y) == 0 or len(right_y) == 0:\n",
    "                continue\n",
    "\n",
    "            error = (len(left_y) / num_samples) * mean_squared_error(left_y) + (len(right_y) / num_samples) * mean_squared_error(right_y)\n",
    "\n",
    "            if error < best_error:\n",
    "                best_error = error\n",
    "                best_split = feature\n",
    "                best_split_value = value\n",
    "\n",
    "    return best_split, best_split_value"
   ]
  },
  {
   "cell_type": "code",
   "execution_count": 32,
   "id": "d5dcd19e",
   "metadata": {},
   "outputs": [],
   "source": [
    "# Define a class to represent a decision tree node\n",
    "class TreeNode:\n",
    "    def __init__(self, depth=0, max_depth=None):\n",
    "        self.depth = depth\n",
    "        self.max_depth = max_depth\n",
    "\n",
    "    def fit(self, X, y):\n",
    "        if self.max_depth is not None and self.depth >= self.max_depth:\n",
    "            self.value = np.mean(y)\n",
    "            return\n",
    "        best_split, best_split_value = find_best_split(X, y)\n",
    "        if best_split is not None:\n",
    "            self.split_feature = best_split\n",
    "            self.split_value = best_split_value\n",
    "            self.left = TreeNode(self.depth + 1, self.max_depth)\n",
    "            self.right = TreeNode(self.depth + 1, self.max_depth)\n",
    "            left_mask = X[:, best_split] <= best_split_value\n",
    "            right_mask = X[:, best_split] > best_split_value\n",
    "            self.left.fit(X[left_mask], y[left_mask])\n",
    "            self.right.fit(X[right_mask], y[right_mask])\n",
    "        else:\n",
    "            self.value = np.mean(y)\n",
    "\n",
    "    def predict(self, X):\n",
    "        if hasattr(self, 'value'):\n",
    "            return np.full(X.shape[0], self.value)\n",
    "        else:\n",
    "            left_mask = X[:, self.split_feature] <= self.split_value\n",
    "            right_mask = X[:, self.split_feature] > self.split_value\n",
    "            result = np.empty(X.shape[0])\n",
    "            result[left_mask] = self.left.predict(X[left_mask])\n",
    "            result[right_mask] = self.right.predict(X[right_mask])\n",
    "            return result"
   ]
  },
  {
   "cell_type": "code",
   "execution_count": 33,
   "id": "dc1888f8",
   "metadata": {},
   "outputs": [],
   "source": [
    "# Define a decision tree model\n",
    "class DecisionTreeRegressor:\n",
    "    def __init__(self, max_depth=None):\n",
    "        self.max_depth = max_depth\n",
    "\n",
    "    def fit(self, X, y):\n",
    "        self.root = TreeNode(max_depth=self.max_depth)\n",
    "        self.root.fit(X, y)\n",
    "\n",
    "    def predict(self, X):\n",
    "        return self.root.predict(X)"
   ]
  },
  {
   "cell_type": "code",
   "execution_count": 60,
   "id": "a7fe5e4d",
   "metadata": {},
   "outputs": [
    {
     "ename": "InvalidIndexError",
     "evalue": "(slice(None, None, None), 0)",
     "output_type": "error",
     "traceback": [
      "\u001b[1;31m---------------------------------------------------------------------------\u001b[0m",
      "\u001b[1;31mTypeError\u001b[0m                                 Traceback (most recent call last)",
      "\u001b[1;32m~\\anaconda3\\lib\\site-packages\\pandas\\core\\indexes\\base.py\u001b[0m in \u001b[0;36mget_loc\u001b[1;34m(self, key, method, tolerance)\u001b[0m\n\u001b[0;32m   3628\u001b[0m             \u001b[1;32mtry\u001b[0m\u001b[1;33m:\u001b[0m\u001b[1;33m\u001b[0m\u001b[1;33m\u001b[0m\u001b[0m\n\u001b[1;32m-> 3629\u001b[1;33m                 \u001b[1;32mreturn\u001b[0m \u001b[0mself\u001b[0m\u001b[1;33m.\u001b[0m\u001b[0m_engine\u001b[0m\u001b[1;33m.\u001b[0m\u001b[0mget_loc\u001b[0m\u001b[1;33m(\u001b[0m\u001b[0mcasted_key\u001b[0m\u001b[1;33m)\u001b[0m\u001b[1;33m\u001b[0m\u001b[1;33m\u001b[0m\u001b[0m\n\u001b[0m\u001b[0;32m   3630\u001b[0m             \u001b[1;32mexcept\u001b[0m \u001b[0mKeyError\u001b[0m \u001b[1;32mas\u001b[0m \u001b[0merr\u001b[0m\u001b[1;33m:\u001b[0m\u001b[1;33m\u001b[0m\u001b[1;33m\u001b[0m\u001b[0m\n",
      "\u001b[1;32m~\\anaconda3\\lib\\site-packages\\pandas\\_libs\\index.pyx\u001b[0m in \u001b[0;36mpandas._libs.index.IndexEngine.get_loc\u001b[1;34m()\u001b[0m\n",
      "\u001b[1;32m~\\anaconda3\\lib\\site-packages\\pandas\\_libs\\index.pyx\u001b[0m in \u001b[0;36mpandas._libs.index.IndexEngine.get_loc\u001b[1;34m()\u001b[0m\n",
      "\u001b[1;31mTypeError\u001b[0m: '(slice(None, None, None), 0)' is an invalid key",
      "\nDuring handling of the above exception, another exception occurred:\n",
      "\u001b[1;31mInvalidIndexError\u001b[0m                         Traceback (most recent call last)",
      "\u001b[1;32m~\\AppData\\Local\\Temp\\ipykernel_12480\\4075977951.py\u001b[0m in \u001b[0;36m<module>\u001b[1;34m\u001b[0m\n\u001b[0;32m      1\u001b[0m \u001b[1;31m# Create a decision tree model and fit it to the data\u001b[0m\u001b[1;33m\u001b[0m\u001b[1;33m\u001b[0m\u001b[0m\n\u001b[0;32m      2\u001b[0m \u001b[0mtree\u001b[0m \u001b[1;33m=\u001b[0m \u001b[0mDecisionTreeRegressor\u001b[0m\u001b[1;33m(\u001b[0m\u001b[0mmax_depth\u001b[0m\u001b[1;33m=\u001b[0m\u001b[1;36m3\u001b[0m\u001b[1;33m)\u001b[0m\u001b[1;33m\u001b[0m\u001b[1;33m\u001b[0m\u001b[0m\n\u001b[1;32m----> 3\u001b[1;33m \u001b[0mtree\u001b[0m\u001b[1;33m.\u001b[0m\u001b[0mfit\u001b[0m\u001b[1;33m(\u001b[0m\u001b[0mX_train\u001b[0m\u001b[1;33m,\u001b[0m \u001b[0my_train\u001b[0m\u001b[1;33m)\u001b[0m\u001b[1;33m\u001b[0m\u001b[1;33m\u001b[0m\u001b[0m\n\u001b[0m",
      "\u001b[1;32m~\\AppData\\Local\\Temp\\ipykernel_12480\\2804234950.py\u001b[0m in \u001b[0;36mfit\u001b[1;34m(self, X, y)\u001b[0m\n\u001b[0;32m      6\u001b[0m     \u001b[1;32mdef\u001b[0m \u001b[0mfit\u001b[0m\u001b[1;33m(\u001b[0m\u001b[0mself\u001b[0m\u001b[1;33m,\u001b[0m \u001b[0mX\u001b[0m\u001b[1;33m,\u001b[0m \u001b[0my\u001b[0m\u001b[1;33m)\u001b[0m\u001b[1;33m:\u001b[0m\u001b[1;33m\u001b[0m\u001b[1;33m\u001b[0m\u001b[0m\n\u001b[0;32m      7\u001b[0m         \u001b[0mself\u001b[0m\u001b[1;33m.\u001b[0m\u001b[0mroot\u001b[0m \u001b[1;33m=\u001b[0m \u001b[0mTreeNode\u001b[0m\u001b[1;33m(\u001b[0m\u001b[0mmax_depth\u001b[0m\u001b[1;33m=\u001b[0m\u001b[0mself\u001b[0m\u001b[1;33m.\u001b[0m\u001b[0mmax_depth\u001b[0m\u001b[1;33m)\u001b[0m\u001b[1;33m\u001b[0m\u001b[1;33m\u001b[0m\u001b[0m\n\u001b[1;32m----> 8\u001b[1;33m         \u001b[0mself\u001b[0m\u001b[1;33m.\u001b[0m\u001b[0mroot\u001b[0m\u001b[1;33m.\u001b[0m\u001b[0mfit\u001b[0m\u001b[1;33m(\u001b[0m\u001b[0mX\u001b[0m\u001b[1;33m,\u001b[0m \u001b[0my\u001b[0m\u001b[1;33m)\u001b[0m\u001b[1;33m\u001b[0m\u001b[1;33m\u001b[0m\u001b[0m\n\u001b[0m\u001b[0;32m      9\u001b[0m \u001b[1;33m\u001b[0m\u001b[0m\n\u001b[0;32m     10\u001b[0m     \u001b[1;32mdef\u001b[0m \u001b[0mpredict\u001b[0m\u001b[1;33m(\u001b[0m\u001b[0mself\u001b[0m\u001b[1;33m,\u001b[0m \u001b[0mX\u001b[0m\u001b[1;33m)\u001b[0m\u001b[1;33m:\u001b[0m\u001b[1;33m\u001b[0m\u001b[1;33m\u001b[0m\u001b[0m\n",
      "\u001b[1;32m~\\AppData\\Local\\Temp\\ipykernel_12480\\3915314953.py\u001b[0m in \u001b[0;36mfit\u001b[1;34m(self, X, y)\u001b[0m\n\u001b[0;32m     11\u001b[0m             \u001b[1;32mreturn\u001b[0m\u001b[1;33m\u001b[0m\u001b[1;33m\u001b[0m\u001b[0m\n\u001b[0;32m     12\u001b[0m \u001b[1;33m\u001b[0m\u001b[0m\n\u001b[1;32m---> 13\u001b[1;33m         \u001b[0mbest_split\u001b[0m\u001b[1;33m,\u001b[0m \u001b[0mbest_split_value\u001b[0m \u001b[1;33m=\u001b[0m \u001b[0mfind_best_split_categorical\u001b[0m\u001b[1;33m(\u001b[0m\u001b[0mX\u001b[0m\u001b[1;33m,\u001b[0m \u001b[0my\u001b[0m\u001b[1;33m)\u001b[0m\u001b[1;33m\u001b[0m\u001b[1;33m\u001b[0m\u001b[0m\n\u001b[0m\u001b[0;32m     14\u001b[0m         \u001b[1;32mif\u001b[0m \u001b[0mbest_split\u001b[0m \u001b[1;32mis\u001b[0m \u001b[1;32mnot\u001b[0m \u001b[1;32mNone\u001b[0m\u001b[1;33m:\u001b[0m\u001b[1;33m\u001b[0m\u001b[1;33m\u001b[0m\u001b[0m\n\u001b[0;32m     15\u001b[0m             \u001b[0mself\u001b[0m\u001b[1;33m.\u001b[0m\u001b[0msplit_feature\u001b[0m \u001b[1;33m=\u001b[0m \u001b[0mbest_split\u001b[0m\u001b[1;33m\u001b[0m\u001b[1;33m\u001b[0m\u001b[0m\n",
      "\u001b[1;32m~\\AppData\\Local\\Temp\\ipykernel_12480\\3915314953.py\u001b[0m in \u001b[0;36mfind_best_split_categorical\u001b[1;34m(X, y)\u001b[0m\n\u001b[0;32m     58\u001b[0m \u001b[1;33m\u001b[0m\u001b[0m\n\u001b[0;32m     59\u001b[0m     \u001b[1;32mfor\u001b[0m \u001b[0mfeature\u001b[0m \u001b[1;32min\u001b[0m \u001b[0mrange\u001b[0m\u001b[1;33m(\u001b[0m\u001b[0mnum_features\u001b[0m\u001b[1;33m)\u001b[0m\u001b[1;33m:\u001b[0m\u001b[1;33m\u001b[0m\u001b[1;33m\u001b[0m\u001b[0m\n\u001b[1;32m---> 60\u001b[1;33m         \u001b[0mfeature_values\u001b[0m \u001b[1;33m=\u001b[0m \u001b[0mX\u001b[0m\u001b[1;33m[\u001b[0m\u001b[1;33m:\u001b[0m\u001b[1;33m,\u001b[0m \u001b[0mfeature\u001b[0m\u001b[1;33m]\u001b[0m\u001b[1;33m\u001b[0m\u001b[1;33m\u001b[0m\u001b[0m\n\u001b[0m\u001b[0;32m     61\u001b[0m         \u001b[0munique_values\u001b[0m \u001b[1;33m=\u001b[0m \u001b[0mnp\u001b[0m\u001b[1;33m.\u001b[0m\u001b[0munique\u001b[0m\u001b[1;33m(\u001b[0m\u001b[0mfeature_values\u001b[0m\u001b[1;33m)\u001b[0m\u001b[1;33m\u001b[0m\u001b[1;33m\u001b[0m\u001b[0m\n\u001b[0;32m     62\u001b[0m         \u001b[1;32mfor\u001b[0m \u001b[0mvalue\u001b[0m \u001b[1;32min\u001b[0m \u001b[0munique_values\u001b[0m\u001b[1;33m:\u001b[0m\u001b[1;33m\u001b[0m\u001b[1;33m\u001b[0m\u001b[0m\n",
      "\u001b[1;32m~\\anaconda3\\lib\\site-packages\\pandas\\core\\frame.py\u001b[0m in \u001b[0;36m__getitem__\u001b[1;34m(self, key)\u001b[0m\n\u001b[0;32m   3503\u001b[0m             \u001b[1;32mif\u001b[0m \u001b[0mself\u001b[0m\u001b[1;33m.\u001b[0m\u001b[0mcolumns\u001b[0m\u001b[1;33m.\u001b[0m\u001b[0mnlevels\u001b[0m \u001b[1;33m>\u001b[0m \u001b[1;36m1\u001b[0m\u001b[1;33m:\u001b[0m\u001b[1;33m\u001b[0m\u001b[1;33m\u001b[0m\u001b[0m\n\u001b[0;32m   3504\u001b[0m                 \u001b[1;32mreturn\u001b[0m \u001b[0mself\u001b[0m\u001b[1;33m.\u001b[0m\u001b[0m_getitem_multilevel\u001b[0m\u001b[1;33m(\u001b[0m\u001b[0mkey\u001b[0m\u001b[1;33m)\u001b[0m\u001b[1;33m\u001b[0m\u001b[1;33m\u001b[0m\u001b[0m\n\u001b[1;32m-> 3505\u001b[1;33m             \u001b[0mindexer\u001b[0m \u001b[1;33m=\u001b[0m \u001b[0mself\u001b[0m\u001b[1;33m.\u001b[0m\u001b[0mcolumns\u001b[0m\u001b[1;33m.\u001b[0m\u001b[0mget_loc\u001b[0m\u001b[1;33m(\u001b[0m\u001b[0mkey\u001b[0m\u001b[1;33m)\u001b[0m\u001b[1;33m\u001b[0m\u001b[1;33m\u001b[0m\u001b[0m\n\u001b[0m\u001b[0;32m   3506\u001b[0m             \u001b[1;32mif\u001b[0m \u001b[0mis_integer\u001b[0m\u001b[1;33m(\u001b[0m\u001b[0mindexer\u001b[0m\u001b[1;33m)\u001b[0m\u001b[1;33m:\u001b[0m\u001b[1;33m\u001b[0m\u001b[1;33m\u001b[0m\u001b[0m\n\u001b[0;32m   3507\u001b[0m                 \u001b[0mindexer\u001b[0m \u001b[1;33m=\u001b[0m \u001b[1;33m[\u001b[0m\u001b[0mindexer\u001b[0m\u001b[1;33m]\u001b[0m\u001b[1;33m\u001b[0m\u001b[1;33m\u001b[0m\u001b[0m\n",
      "\u001b[1;32m~\\anaconda3\\lib\\site-packages\\pandas\\core\\indexes\\base.py\u001b[0m in \u001b[0;36mget_loc\u001b[1;34m(self, key, method, tolerance)\u001b[0m\n\u001b[0;32m   3634\u001b[0m                 \u001b[1;31m#  InvalidIndexError. Otherwise we fall through and re-raise\u001b[0m\u001b[1;33m\u001b[0m\u001b[1;33m\u001b[0m\u001b[0m\n\u001b[0;32m   3635\u001b[0m                 \u001b[1;31m#  the TypeError.\u001b[0m\u001b[1;33m\u001b[0m\u001b[1;33m\u001b[0m\u001b[0m\n\u001b[1;32m-> 3636\u001b[1;33m                 \u001b[0mself\u001b[0m\u001b[1;33m.\u001b[0m\u001b[0m_check_indexing_error\u001b[0m\u001b[1;33m(\u001b[0m\u001b[0mkey\u001b[0m\u001b[1;33m)\u001b[0m\u001b[1;33m\u001b[0m\u001b[1;33m\u001b[0m\u001b[0m\n\u001b[0m\u001b[0;32m   3637\u001b[0m                 \u001b[1;32mraise\u001b[0m\u001b[1;33m\u001b[0m\u001b[1;33m\u001b[0m\u001b[0m\n\u001b[0;32m   3638\u001b[0m \u001b[1;33m\u001b[0m\u001b[0m\n",
      "\u001b[1;32m~\\anaconda3\\lib\\site-packages\\pandas\\core\\indexes\\base.py\u001b[0m in \u001b[0;36m_check_indexing_error\u001b[1;34m(self, key)\u001b[0m\n\u001b[0;32m   5649\u001b[0m             \u001b[1;31m# if key is not a scalar, directly raise an error (the code below\u001b[0m\u001b[1;33m\u001b[0m\u001b[1;33m\u001b[0m\u001b[0m\n\u001b[0;32m   5650\u001b[0m             \u001b[1;31m# would convert to numpy arrays and raise later any way) - GH29926\u001b[0m\u001b[1;33m\u001b[0m\u001b[1;33m\u001b[0m\u001b[0m\n\u001b[1;32m-> 5651\u001b[1;33m             \u001b[1;32mraise\u001b[0m \u001b[0mInvalidIndexError\u001b[0m\u001b[1;33m(\u001b[0m\u001b[0mkey\u001b[0m\u001b[1;33m)\u001b[0m\u001b[1;33m\u001b[0m\u001b[1;33m\u001b[0m\u001b[0m\n\u001b[0m\u001b[0;32m   5652\u001b[0m \u001b[1;33m\u001b[0m\u001b[0m\n\u001b[0;32m   5653\u001b[0m     \u001b[1;33m@\u001b[0m\u001b[0mcache_readonly\u001b[0m\u001b[1;33m\u001b[0m\u001b[1;33m\u001b[0m\u001b[0m\n",
      "\u001b[1;31mInvalidIndexError\u001b[0m: (slice(None, None, None), 0)"
     ]
    }
   ],
   "source": [
    "# Create a decision tree model and fit it to the data\n",
    "tree = DecisionTreeRegressor(max_depth=3)\n",
    "tree.fit(X_train, y_train)"
   ]
  },
  {
   "cell_type": "markdown",
   "id": "972cfdb2",
   "metadata": {},
   "source": [
    "model - 2 dicision tree classifier"
   ]
  },
  {
   "cell_type": "code",
   "execution_count": 35,
   "id": "0daf9fd4",
   "metadata": {},
   "outputs": [],
   "source": [
    "dataset1 = dataset0.head(1000)"
   ]
  },
  {
   "cell_type": "code",
   "execution_count": 36,
   "id": "67aa93ee",
   "metadata": {
    "scrolled": true
   },
   "outputs": [
    {
     "name": "stdout",
     "output_type": "stream",
     "text": [
      "[[0. 0. 0. ... 0. 1. 0.]\n",
      " [1. 0. 0. ... 1. 0. 1.]\n",
      " [1. 1. 1. ... 0. 0. 0.]\n",
      " ...\n",
      " [0. 0. 0. ... 0. 0. 0.]\n",
      " [0. 0. 0. ... 0. 0. 1.]\n",
      " [1. 0. 0. ... 0. 0. 0.]]\n"
     ]
    }
   ],
   "source": [
    "X1 = dataset1.loc[:1000, ['damage_overall_adjacent_building_risk','damage_overall_leaning','has_repair_started','has_damage_staircase','damage_roof_severe']]\n",
    "X1 = pd.get_dummies(X1, drop_first=True)\n",
    "X1 = X1.apply(pd.to_numeric, errors='coerce')\n",
    "X1.fillna(0, inplace=True)  #strategy for handling missing values\n",
    "X1 = X1.values\n",
    "y1 = dataset1.loc[:1000, 'damage_grade'].values\n",
    "from sklearn.preprocessing import LabelEncoder\n",
    "label_encoder = LabelEncoder()\n",
    "y1 = label_encoder.fit_transform(y1)\n",
    "\n",
    "print(X1)"
   ]
  },
  {
   "cell_type": "code",
   "execution_count": 38,
   "id": "d3954b95",
   "metadata": {},
   "outputs": [],
   "source": [
    "from sklearn.model_selection import train_test_split\n",
    "X1_train, X1_test, y1_train, y1_test = train_test_split(X1 , y1, test_size = 0.2)"
   ]
  },
  {
   "cell_type": "code",
   "execution_count": 39,
   "id": "d8ef5741",
   "metadata": {
    "scrolled": true
   },
   "outputs": [
    {
     "name": "stdout",
     "output_type": "stream",
     "text": [
      "[2 4 1 1 0 1 4 1 2 2 1 0 0 1 0 0 2 1 2 2 1 0 0 2 1 1 2 0 0 0 0 0 0 0 0 3 3\n",
      " 2 2 4 4 3 0 0 0 4 1 0 1 1 0 3 2 1 1 3 1 1 0 1 2 2 4 0 0 2 1 1 3 2 2 2 2 0\n",
      " 2 0 4 1 1 2 2 0 0 2 3 0 0 0 0 3 2 1 0 2 0 0 1 3 3 0 0 0 0 0 0 0 4 3 1 4 0\n",
      " 1 2 0 2 3 0 0 0 4 1 2 1 0 3 1 0 1 3 3 2 4 2 3 0 4 3 2 2 1 2 4 2 2 1 4 2 3\n",
      " 2 4 2 4 4 3 1 2 0 2 2 2 4 4 0 1 4 0 1 2 0 3 0 3 0 3 2 2 3 4 2 1 4 4 2 2 4\n",
      " 0 0 2 4 0 4 0 1 1 2 2 1 0 2 0 2 4 2 1 4 4 1 0 0 1 0 0 3 1 1 2 4 0 0 2 1 2\n",
      " 2 0 2 4 1 0 0 4 1 2 2 3 4 2 2 1 1 2 3 0 4 1 0 0 0 1 0 0 2 0 2 1 0 1 0 3 0\n",
      " 1 0 0 0 0 2 2 0 0 0 0 0 0 0 0 0 0 0 0 0 2 4 0 2 0 0 0 1 0 0 0 4 2 0 2 3 0\n",
      " 0 2 0 2 0 0 0 0 0 3 2 1 0 1 0 0 0 2 4 0 0 1 3 2 0 0 1 3 4 0 0 2 3 1 1 0 0\n",
      " 0 1 0 2 1 0 4 1 1 0 1 1 0 0 0 0 1 0 2 0 2 0 2 2 0 0 0 0 0 1 0 0 0 2 4 1 0\n",
      " 0 2 2 0 0 2 0 0 0 0 0 0 0 1 0 0 0 1 4 0 0 0 0 2 2 2 1 1 2 3 2 1 2 3 2 3 4\n",
      " 3 1 0 2 4 2 0 2 2 2 0 4 3 4 3 2 2 1 2 2 3 1 1 3 2 2 4 1 3 3 1 2 0 0 2 1 2\n",
      " 2 2 1 1 1 2 4 0 0 0 0 0 0 0 0 2 1 0 2 2 0 2 1 0 0 0 2 2 2 0 0 0 1 2 2 0 2\n",
      " 0 0 0 1 1 0 1 0 0 2 4 1 2 0 0 2 2 0 0 0 0 1 2 2 2 3 2 2 4 2 0 3 1 0 4 1 0\n",
      " 0 2 0 0 0 0 2 0 1 4 4 1 0 0 2 1 2 2 2 2 0 0 0 3 0 1 0 2 0 1 0 2 1 0 0 1 3\n",
      " 0 1 1 1 2 4 4 1 0 1 0 1 2 1 0 1 1 0 0 2 0 3 0 1 1 2 0 0 1 0 1 0 1 1 4 0 0\n",
      " 1 0 2 1 0 1 1 0 0 1 1 0 0 0 0 1 2 0 0 0 1 1 2 1 0 1 1 1 1 1 1 1 0 0 1 0 0\n",
      " 2 0 0 1 1 2 0 0 0 0 1 1 0 0 0 0 0 0 0 0 0 0 0 2 0 1 0 0 2 0 2 1 0 0 0 0 0\n",
      " 4 2 1 1 0 2 2 0 0 2 0 1 1 0 0 0 0 0 0 0 0 0 0 1 1 0 0 0 0 0 0 0 0 0 0 0 0\n",
      " 1 0 0 0 1 4 1 0 0 0 0 0 0 0 0 0 0 0 0 0 0 0 0 0 0 0 0 0 0 0 0 1 2 1 1 2 4\n",
      " 2 4 1 1 1 1 2 3 4 2 2 2 1 1 1 1 1 2 1 2 2 1 2 2 2 4 2 1 4 2 2 2 4 2 2 4 1\n",
      " 2 1 4 2 2 2 2 1 1 2 1 2 2 2 2 2 2 4 2 1 2 2 1 4 2 1 1 2 1 2 2 0 1 2 2 1 2\n",
      " 2 1 2 1 1 2 1 1 2 0 1 2 1 2 1 2 1 1 1 2 1 1 2 1 2 0 1 2 1 2 1 1 1 1 1 1 1\n",
      " 2 2 2 1 1 1 1 2 2 1 2 1 2 2 2 1 1 2 2 1 1 2 2 2 2 2 2 2 1 1 1 1 2 1 2 2 1\n",
      " 2 2 2 2 4 1 2 1 1 1 1 1 1 2 1 1 1 1 4 1 1 1 1 1 1 1 1 1 1 1 1 1 1 1 1 1 1\n",
      " 3 1 2 1 2 1 1 1 2 3 2 1 3 3 1 2 2 1 2 2 2 2 2 4 1 1 3 1 3 1 2 1 2 2 3 1 4\n",
      " 2 2 2 2 2 2 2 1 1 1 4 1 2 1 1 0 2 2 1 2 2 2 1 2 1 1 0 1 4 1 2 2 1 1 1 2 2\n",
      " 1]\n"
     ]
    }
   ],
   "source": [
    "print(y1)"
   ]
  },
  {
   "cell_type": "code",
   "execution_count": 40,
   "id": "48845c82",
   "metadata": {},
   "outputs": [],
   "source": [
    "import numpy as np\n",
    "\n",
    "class TreeNode:\n",
    "    def __init__(self, depth=0, max_depth=None):\n",
    "        self.depth = depth\n",
    "        self.max_depth = max_depth\n",
    "\n",
    "    def fit(self, X, y):\n",
    "        if self.max_depth is not None and self.depth >= self.max_depth:\n",
    "            self.label = np.argmax(np.bincount(y))  # Assign the most frequent class as the label\n",
    "            return\n",
    "\n",
    "        best_split, best_split_value = find_best_split_categorical(X, y)\n",
    "        if best_split is not None:\n",
    "            self.split_feature = best_split\n",
    "            self.split_value = best_split_value\n",
    "            self.left = TreeNode(self.depth + 1, self.max_depth)\n",
    "            self.right = TreeNode(self.depth + 1, self.max_depth)\n",
    "\n",
    "            if np.issubdtype(X[:, best_split].dtype, np.number):\n",
    "                left_mask = X[:, best_split] <= best_split_value\n",
    "                right_mask = X[:, best_split] > best_split_value\n",
    "            else:\n",
    "                left_mask = X[:, best_split] == best_split_value\n",
    "                right_mask = X[:, best_split] != best_split_value\n",
    "\n",
    "            self.left.fit(X[left_mask], y[left_mask])\n",
    "            self.right.fit(X[right_mask], y[right_mask])\n",
    "        else:\n",
    "            self.label = np.argmax(np.bincount(y))\n",
    "\n",
    "    def predict(self, X):\n",
    "        if hasattr(self, 'label'):\n",
    "            return np.full(X.shape[0], self.label)\n",
    "        else:\n",
    "            if np.issubdtype(X[:, self.split_feature].dtype, np.number):\n",
    "                left_mask = X[:, self.split_feature] <= self.split_value\n",
    "                right_mask = X[:, self.split_feature] > self.split_value\n",
    "            else:\n",
    "                left_mask = X[:, self.split_feature] == self.split_value\n",
    "                right_mask = X[:, self.split_feature] != self.split_value\n",
    "\n",
    "            result = np.empty(X.shape[0], dtype=int)\n",
    "            result[left_mask] = self.left.predict(X[left_mask])\n",
    "            result[right_mask] = self.right.predict(X[right_mask])\n",
    "            return result\n",
    "\n",
    "\n",
    "def find_best_split_categorical(X, y):\n",
    "    num_samples, num_features = X.shape\n",
    "    if num_samples <= 1:\n",
    "        return None, None\n",
    "\n",
    "    current_gini = gini_index(y)\n",
    "    best_gini = float('inf')\n",
    "    best_split = None\n",
    "    best_split_value = None\n",
    "\n",
    "    for feature in range(num_features):\n",
    "        feature_values = X[:, feature]\n",
    "        unique_values = np.unique(feature_values)\n",
    "        for value in unique_values:\n",
    "            left_mask = feature_values == value\n",
    "            right_mask = feature_values != value\n",
    "            left_y = y[left_mask]\n",
    "            right_y = y[right_mask]\n",
    "\n",
    "            if len(left_y) == 0 or len(right_y) == 0:\n",
    "                continue\n",
    "\n",
    "            gini = (len(left_y) / num_samples) * gini_index(left_y) + (len(right_y) / num_samples) * gini_index(right_y)\n",
    "\n",
    "            if gini < best_gini:\n",
    "                best_gini = gini\n",
    "                best_split = feature\n",
    "                best_split_value = value\n",
    "\n",
    "    return best_split, best_split_value\n",
    "\n",
    "\n",
    "def gini_index(y):\n",
    "    unique_classes, class_counts = np.unique(y, return_counts=True)\n",
    "    class_probabilities = class_counts / len(y)\n",
    "    gini = 1 - np.sum(class_probabilities**2)\n",
    "    return gini\n"
   ]
  },
  {
   "cell_type": "code",
   "execution_count": 41,
   "id": "dc5f464a",
   "metadata": {},
   "outputs": [],
   "source": [
    "# Create an instance of the TreeNode class\n",
    "tree = TreeNode(max_depth=3)\n",
    "\n",
    "# Fit the decision tree to your data\n",
    "tree.fit(X1_train, y1_train)\n"
   ]
  },
  {
   "cell_type": "code",
   "execution_count": 45,
   "id": "f5330db9",
   "metadata": {},
   "outputs": [],
   "source": [
    "y1_pred = tree.predict(X1_test)"
   ]
  },
  {
   "cell_type": "code",
   "execution_count": 48,
   "id": "b0185f7b",
   "metadata": {},
   "outputs": [],
   "source": [
    "from sklearn.metrics import accuracy_score"
   ]
  },
  {
   "cell_type": "code",
   "execution_count": 49,
   "id": "0aeeb96a",
   "metadata": {
    "scrolled": true
   },
   "outputs": [
    {
     "name": "stdout",
     "output_type": "stream",
     "text": [
      "Accuracy: 0.685\n"
     ]
    }
   ],
   "source": [
    "accuracy = accuracy_score(y1_test, y1_pred)\n",
    "print(f\"Accuracy: {accuracy}\")"
   ]
  },
  {
   "cell_type": "markdown",
   "id": "544e4417",
   "metadata": {},
   "source": [
    "model--3 multiple linear regression"
   ]
  },
  {
   "cell_type": "code",
   "execution_count": 67,
   "id": "151e412c",
   "metadata": {},
   "outputs": [
    {
     "name": "stdout",
     "output_type": "stream",
     "text": [
      "     damage_grade\n",
      "0               3\n",
      "1               5\n",
      "2               2\n",
      "3               2\n",
      "4               1\n",
      "..            ...\n",
      "995             2\n",
      "996             2\n",
      "997             3\n",
      "998             3\n",
      "999             2\n",
      "\n",
      "[1000 rows x 1 columns]\n"
     ]
    }
   ],
   "source": [
    "print(y)"
   ]
  },
  {
   "cell_type": "code",
   "execution_count": 65,
   "id": "3f2b741d",
   "metadata": {},
   "outputs": [
    {
     "name": "stdout",
     "output_type": "stream",
     "text": [
      "y is a Pandas DataFrame\n"
     ]
    }
   ],
   "source": [
    "if type(y) is np.ndarray:\n",
    "    print(\"y is a NumPy array\")\n",
    "\n",
    "# Check if X is a Pandas DataFrame\n",
    "if type(y) is pd.DataFrame:\n",
    "    print(\"y is a Pandas DataFrame\")"
   ]
  },
  {
   "cell_type": "code",
   "execution_count": 51,
   "id": "f63c9c7d",
   "metadata": {},
   "outputs": [
    {
     "name": "stdout",
     "output_type": "stream",
     "text": [
      "     damage_overall_adjacent_building_risk  damage_overall_leaning  \\\n",
      "0                                      0.0                     1.0   \n",
      "1                                      1.0                     4.0   \n",
      "2                                      3.0                     2.0   \n",
      "3                                      3.0                     2.0   \n",
      "4                                      0.0                     0.0   \n",
      "..                                     ...                     ...   \n",
      "995                                    0.0                     1.0   \n",
      "996                                    0.0                     1.0   \n",
      "997                                    0.0                     2.0   \n",
      "998                                    0.0                     2.0   \n",
      "999                                    0.0                     1.0   \n",
      "\n",
      "     has_repair_started  has_damage_staircase  damage_roof_severe  \n",
      "0                   0.0              0.000000            2.000000  \n",
      "1                   1.0              0.000000            4.000000  \n",
      "2                   1.0              1.000000            0.144444  \n",
      "3                   1.0              0.428101            0.144444  \n",
      "4                   1.0              0.000000            0.144444  \n",
      "..                  ...                   ...                 ...  \n",
      "995                 1.0              0.000000            0.144444  \n",
      "996                 1.0              0.000000            0.144444  \n",
      "997                 0.0              0.000000            0.144444  \n",
      "998                 0.0              0.000000            4.000000  \n",
      "999                 1.0              0.000000            0.144444  \n",
      "\n",
      "[1000 rows x 5 columns]\n"
     ]
    }
   ],
   "source": [
    "print(X)"
   ]
  },
  {
   "cell_type": "code",
   "execution_count": 57,
   "id": "653b1c05",
   "metadata": {},
   "outputs": [
    {
     "name": "stdout",
     "output_type": "stream",
     "text": [
      "0\n"
     ]
    }
   ],
   "source": [
    "missing_values_count = X['has_damage_staircase'].isna().sum()\n",
    "print(missing_values_count)"
   ]
  },
  {
   "cell_type": "code",
   "execution_count": 63,
   "id": "4e70febd",
   "metadata": {},
   "outputs": [],
   "source": [
    "new_column = np.ones((1000, 1))"
   ]
  },
  {
   "cell_type": "code",
   "execution_count": 70,
   "id": "782426c8",
   "metadata": {},
   "outputs": [],
   "source": [
    "x = np.hstack((new_column , X.astype(float).values))\n",
    "Y = y.astype(float).values"
   ]
  },
  {
   "cell_type": "code",
   "execution_count": 71,
   "id": "dbd874cd",
   "metadata": {},
   "outputs": [],
   "source": [
    "from sklearn.model_selection import train_test_split\n",
    "x_train, x_test, Y_train, Y_test = train_test_split(x , Y, test_size = 0.2)"
   ]
  },
  {
   "cell_type": "code",
   "execution_count": 72,
   "id": "d4232795",
   "metadata": {
    "scrolled": true
   },
   "outputs": [
    {
     "name": "stdout",
     "output_type": "stream",
     "text": [
      "[[1.         0.         0.         0.         1.         0.        ]\n",
      " [1.         0.         1.         0.         1.         0.14444444]\n",
      " [1.         0.         0.         0.53066333 1.         0.        ]\n",
      " ...\n",
      " [1.         0.04989384 0.54140127 1.         0.42810099 0.14444444]\n",
      " [1.         0.         0.         0.53066333 1.         0.        ]\n",
      " [1.         0.         2.         1.         0.         0.14444444]]\n"
     ]
    }
   ],
   "source": [
    "print(x_train)"
   ]
  },
  {
   "cell_type": "code",
   "execution_count": 82,
   "id": "486a77df",
   "metadata": {},
   "outputs": [
    {
     "name": "stdout",
     "output_type": "stream",
     "text": [
      "[[3.]\n",
      " [3.]\n",
      " [1.]\n",
      " [2.]\n",
      " [2.]\n",
      " [2.]\n",
      " [2.]\n",
      " [1.]\n",
      " [3.]\n",
      " [2.]\n",
      " [3.]\n",
      " [2.]\n",
      " [5.]\n",
      " [2.]\n",
      " [2.]\n",
      " [1.]\n",
      " [1.]\n",
      " [2.]\n",
      " [1.]\n",
      " [1.]\n",
      " [1.]\n",
      " [1.]\n",
      " [1.]\n",
      " [3.]\n",
      " [2.]\n",
      " [1.]\n",
      " [1.]\n",
      " [1.]\n",
      " [1.]\n",
      " [4.]\n",
      " [5.]\n",
      " [2.]\n",
      " [3.]\n",
      " [5.]\n",
      " [1.]\n",
      " [3.]\n",
      " [2.]\n",
      " [1.]\n",
      " [2.]\n",
      " [3.]\n",
      " [3.]\n",
      " [3.]\n",
      " [1.]\n",
      " [2.]\n",
      " [3.]\n",
      " [3.]\n",
      " [3.]\n",
      " [2.]\n",
      " [1.]\n",
      " [2.]\n",
      " [2.]\n",
      " [2.]\n",
      " [2.]\n",
      " [2.]\n",
      " [3.]\n",
      " [3.]\n",
      " [3.]\n",
      " [3.]\n",
      " [2.]\n",
      " [2.]\n",
      " [2.]\n",
      " [3.]\n",
      " [4.]\n",
      " [3.]\n",
      " [3.]\n",
      " [1.]\n",
      " [3.]\n",
      " [2.]\n",
      " [1.]\n",
      " [1.]\n",
      " [3.]\n",
      " [2.]\n",
      " [1.]\n",
      " [3.]\n",
      " [2.]\n",
      " [1.]\n",
      " [1.]\n",
      " [3.]\n",
      " [5.]\n",
      " [2.]\n",
      " [2.]\n",
      " [3.]\n",
      " [1.]\n",
      " [3.]\n",
      " [3.]\n",
      " [4.]\n",
      " [4.]\n",
      " [4.]\n",
      " [3.]\n",
      " [2.]\n",
      " [1.]\n",
      " [3.]\n",
      " [2.]\n",
      " [2.]\n",
      " [1.]\n",
      " [2.]\n",
      " [3.]\n",
      " [2.]\n",
      " [5.]\n",
      " [1.]\n",
      " [2.]\n",
      " [1.]\n",
      " [3.]\n",
      " [3.]\n",
      " [2.]\n",
      " [5.]\n",
      " [1.]\n",
      " [5.]\n",
      " [1.]\n",
      " [2.]\n",
      " [2.]\n",
      " [3.]\n",
      " [1.]\n",
      " [3.]\n",
      " [3.]\n",
      " [2.]\n",
      " [1.]\n",
      " [3.]\n",
      " [1.]\n",
      " [1.]\n",
      " [4.]\n",
      " [3.]\n",
      " [3.]\n",
      " [1.]\n",
      " [2.]\n",
      " [5.]\n",
      " [2.]\n",
      " [5.]\n",
      " [3.]\n",
      " [4.]\n",
      " [4.]\n",
      " [2.]\n",
      " [3.]\n",
      " [1.]\n",
      " [1.]\n",
      " [3.]\n",
      " [1.]\n",
      " [2.]\n",
      " [5.]\n",
      " [1.]\n",
      " [3.]\n",
      " [1.]\n",
      " [2.]\n",
      " [3.]\n",
      " [3.]\n",
      " [1.]\n",
      " [4.]\n",
      " [5.]\n",
      " [1.]\n",
      " [2.]\n",
      " [3.]\n",
      " [3.]\n",
      " [2.]\n",
      " [1.]\n",
      " [1.]\n",
      " [5.]\n",
      " [3.]\n",
      " [1.]\n",
      " [2.]\n",
      " [2.]\n",
      " [3.]\n",
      " [2.]\n",
      " [2.]\n",
      " [2.]\n",
      " [1.]\n",
      " [2.]\n",
      " [2.]\n",
      " [2.]\n",
      " [1.]\n",
      " [3.]\n",
      " [1.]\n",
      " [1.]\n",
      " [3.]\n",
      " [4.]\n",
      " [1.]\n",
      " [2.]\n",
      " [3.]\n",
      " [1.]\n",
      " [2.]\n",
      " [2.]\n",
      " [2.]\n",
      " [3.]\n",
      " [5.]\n",
      " [3.]\n",
      " [2.]\n",
      " [5.]\n",
      " [2.]\n",
      " [2.]\n",
      " [3.]\n",
      " [3.]\n",
      " [1.]\n",
      " [3.]\n",
      " [2.]\n",
      " [4.]\n",
      " [2.]\n",
      " [2.]\n",
      " [2.]\n",
      " [1.]\n",
      " [1.]\n",
      " [5.]\n",
      " [3.]\n",
      " [2.]\n",
      " [2.]\n",
      " [1.]\n",
      " [3.]\n",
      " [3.]\n",
      " [3.]\n",
      " [1.]\n",
      " [2.]\n",
      " [3.]\n",
      " [3.]\n",
      " [2.]\n",
      " [2.]\n",
      " [1.]\n",
      " [2.]\n",
      " [3.]\n",
      " [1.]\n",
      " [1.]\n",
      " [4.]\n",
      " [1.]\n",
      " [1.]\n",
      " [2.]\n",
      " [2.]\n",
      " [2.]\n",
      " [2.]\n",
      " [1.]\n",
      " [4.]\n",
      " [3.]\n",
      " [3.]\n",
      " [3.]\n",
      " [1.]\n",
      " [1.]\n",
      " [1.]\n",
      " [1.]\n",
      " [3.]\n",
      " [4.]\n",
      " [2.]\n",
      " [2.]\n",
      " [2.]\n",
      " [3.]\n",
      " [3.]\n",
      " [1.]\n",
      " [2.]\n",
      " [3.]\n",
      " [4.]\n",
      " [4.]\n",
      " [3.]\n",
      " [1.]\n",
      " [1.]\n",
      " [2.]\n",
      " [1.]\n",
      " [1.]\n",
      " [2.]\n",
      " [3.]\n",
      " [1.]\n",
      " [5.]\n",
      " [3.]\n",
      " [2.]\n",
      " [1.]\n",
      " [2.]\n",
      " [1.]\n",
      " [3.]\n",
      " [3.]\n",
      " [3.]\n",
      " [3.]\n",
      " [1.]\n",
      " [1.]\n",
      " [1.]\n",
      " [1.]\n",
      " [2.]\n",
      " [2.]\n",
      " [3.]\n",
      " [1.]\n",
      " [2.]\n",
      " [3.]\n",
      " [2.]\n",
      " [2.]\n",
      " [3.]\n",
      " [4.]\n",
      " [3.]\n",
      " [1.]\n",
      " [1.]\n",
      " [1.]\n",
      " [5.]\n",
      " [5.]\n",
      " [2.]\n",
      " [1.]\n",
      " [2.]\n",
      " [4.]\n",
      " [1.]\n",
      " [1.]\n",
      " [1.]\n",
      " [3.]\n",
      " [2.]\n",
      " [2.]\n",
      " [2.]\n",
      " [1.]\n",
      " [3.]\n",
      " [3.]\n",
      " [2.]\n",
      " [1.]\n",
      " [1.]\n",
      " [3.]\n",
      " [3.]\n",
      " [2.]\n",
      " [1.]\n",
      " [2.]\n",
      " [3.]\n",
      " [1.]\n",
      " [3.]\n",
      " [4.]\n",
      " [3.]\n",
      " [3.]\n",
      " [3.]\n",
      " [2.]\n",
      " [3.]\n",
      " [1.]\n",
      " [5.]\n",
      " [3.]\n",
      " [1.]\n",
      " [1.]\n",
      " [1.]\n",
      " [5.]\n",
      " [3.]\n",
      " [2.]\n",
      " [1.]\n",
      " [3.]\n",
      " [3.]\n",
      " [1.]\n",
      " [1.]\n",
      " [2.]\n",
      " [2.]\n",
      " [3.]\n",
      " [2.]\n",
      " [1.]\n",
      " [1.]\n",
      " [5.]\n",
      " [3.]\n",
      " [2.]\n",
      " [2.]\n",
      " [1.]\n",
      " [1.]\n",
      " [1.]\n",
      " [1.]\n",
      " [1.]\n",
      " [1.]\n",
      " [2.]\n",
      " [3.]\n",
      " [5.]\n",
      " [3.]\n",
      " [5.]\n",
      " [3.]\n",
      " [1.]\n",
      " [3.]\n",
      " [3.]\n",
      " [3.]\n",
      " [1.]\n",
      " [5.]\n",
      " [1.]\n",
      " [2.]\n",
      " [2.]\n",
      " [3.]\n",
      " [3.]\n",
      " [1.]\n",
      " [2.]\n",
      " [3.]\n",
      " [1.]\n",
      " [2.]\n",
      " [4.]\n",
      " [3.]\n",
      " [3.]\n",
      " [3.]\n",
      " [1.]\n",
      " [1.]\n",
      " [1.]\n",
      " [3.]\n",
      " [2.]\n",
      " [1.]\n",
      " [3.]\n",
      " [1.]\n",
      " [5.]\n",
      " [2.]\n",
      " [1.]\n",
      " [5.]\n",
      " [3.]\n",
      " [2.]\n",
      " [3.]\n",
      " [1.]\n",
      " [1.]\n",
      " [1.]\n",
      " [1.]\n",
      " [2.]\n",
      " [2.]\n",
      " [1.]\n",
      " [2.]\n",
      " [1.]\n",
      " [3.]\n",
      " [2.]\n",
      " [3.]\n",
      " [3.]\n",
      " [2.]\n",
      " [5.]\n",
      " [2.]\n",
      " [4.]\n",
      " [1.]\n",
      " [2.]\n",
      " [2.]\n",
      " [2.]\n",
      " [5.]\n",
      " [2.]\n",
      " [2.]\n",
      " [1.]\n",
      " [1.]\n",
      " [3.]\n",
      " [3.]\n",
      " [2.]\n",
      " [1.]\n",
      " [5.]\n",
      " [1.]\n",
      " [1.]\n",
      " [1.]\n",
      " [1.]\n",
      " [2.]\n",
      " [3.]\n",
      " [1.]\n",
      " [1.]\n",
      " [2.]\n",
      " [4.]\n",
      " [2.]\n",
      " [1.]\n",
      " [3.]\n",
      " [2.]\n",
      " [1.]\n",
      " [5.]\n",
      " [4.]\n",
      " [3.]\n",
      " [2.]\n",
      " [3.]\n",
      " [3.]\n",
      " [1.]\n",
      " [2.]\n",
      " [5.]\n",
      " [1.]\n",
      " [3.]\n",
      " [1.]\n",
      " [3.]\n",
      " [1.]\n",
      " [1.]\n",
      " [1.]\n",
      " [2.]\n",
      " [1.]\n",
      " [2.]\n",
      " [1.]\n",
      " [3.]\n",
      " [1.]\n",
      " [2.]\n",
      " [3.]\n",
      " [2.]\n",
      " [2.]\n",
      " [3.]\n",
      " [1.]\n",
      " [2.]\n",
      " [2.]\n",
      " [1.]\n",
      " [2.]\n",
      " [2.]\n",
      " [1.]\n",
      " [2.]\n",
      " [2.]\n",
      " [3.]\n",
      " [3.]\n",
      " [1.]\n",
      " [3.]\n",
      " [1.]\n",
      " [2.]\n",
      " [2.]\n",
      " [1.]\n",
      " [1.]\n",
      " [1.]\n",
      " [3.]\n",
      " [1.]\n",
      " [1.]\n",
      " [2.]\n",
      " [3.]\n",
      " [2.]\n",
      " [1.]\n",
      " [1.]\n",
      " [2.]\n",
      " [2.]\n",
      " [1.]\n",
      " [3.]\n",
      " [2.]\n",
      " [1.]\n",
      " [1.]\n",
      " [3.]\n",
      " [1.]\n",
      " [1.]\n",
      " [4.]\n",
      " [5.]\n",
      " [3.]\n",
      " [3.]\n",
      " [1.]\n",
      " [3.]\n",
      " [2.]\n",
      " [3.]\n",
      " [3.]\n",
      " [1.]\n",
      " [1.]\n",
      " [2.]\n",
      " [3.]\n",
      " [2.]\n",
      " [2.]\n",
      " [3.]\n",
      " [2.]\n",
      " [2.]\n",
      " [4.]\n",
      " [3.]\n",
      " [1.]\n",
      " [1.]\n",
      " [5.]\n",
      " [2.]\n",
      " [1.]\n",
      " [3.]\n",
      " [1.]\n",
      " [2.]\n",
      " [3.]\n",
      " [1.]\n",
      " [5.]\n",
      " [3.]\n",
      " [3.]\n",
      " [1.]\n",
      " [1.]\n",
      " [2.]\n",
      " [5.]\n",
      " [4.]\n",
      " [3.]\n",
      " [3.]\n",
      " [1.]\n",
      " [2.]\n",
      " [2.]\n",
      " [3.]\n",
      " [1.]\n",
      " [1.]\n",
      " [5.]\n",
      " [5.]\n",
      " [3.]\n",
      " [1.]\n",
      " [2.]\n",
      " [1.]\n",
      " [2.]\n",
      " [3.]\n",
      " [3.]\n",
      " [1.]\n",
      " [2.]\n",
      " [1.]\n",
      " [1.]\n",
      " [3.]\n",
      " [2.]\n",
      " [1.]\n",
      " [3.]\n",
      " [2.]\n",
      " [3.]\n",
      " [1.]\n",
      " [4.]\n",
      " [2.]\n",
      " [2.]\n",
      " [1.]\n",
      " [3.]\n",
      " [3.]\n",
      " [2.]\n",
      " [3.]\n",
      " [1.]\n",
      " [1.]\n",
      " [1.]\n",
      " [2.]\n",
      " [3.]\n",
      " [1.]\n",
      " [3.]\n",
      " [1.]\n",
      " [2.]\n",
      " [3.]\n",
      " [2.]\n",
      " [5.]\n",
      " [3.]\n",
      " [2.]\n",
      " [1.]\n",
      " [2.]\n",
      " [5.]\n",
      " [3.]\n",
      " [1.]\n",
      " [2.]\n",
      " [1.]\n",
      " [3.]\n",
      " [1.]\n",
      " [2.]\n",
      " [5.]\n",
      " [1.]\n",
      " [2.]\n",
      " [3.]\n",
      " [1.]\n",
      " [5.]\n",
      " [3.]\n",
      " [2.]\n",
      " [2.]\n",
      " [1.]\n",
      " [1.]\n",
      " [2.]\n",
      " [2.]\n",
      " [3.]\n",
      " [3.]\n",
      " [5.]\n",
      " [3.]\n",
      " [2.]\n",
      " [3.]\n",
      " [2.]\n",
      " [3.]\n",
      " [2.]\n",
      " [4.]\n",
      " [1.]\n",
      " [3.]\n",
      " [3.]\n",
      " [2.]\n",
      " [3.]\n",
      " [4.]\n",
      " [4.]\n",
      " [3.]\n",
      " [3.]\n",
      " [1.]\n",
      " [1.]\n",
      " [2.]\n",
      " [3.]\n",
      " [1.]\n",
      " [4.]\n",
      " [2.]\n",
      " [1.]\n",
      " [3.]\n",
      " [3.]\n",
      " [5.]\n",
      " [1.]\n",
      " [3.]\n",
      " [1.]\n",
      " [2.]\n",
      " [1.]\n",
      " [2.]\n",
      " [1.]\n",
      " [1.]\n",
      " [4.]\n",
      " [1.]\n",
      " [2.]\n",
      " [3.]\n",
      " [2.]\n",
      " [2.]\n",
      " [1.]\n",
      " [2.]\n",
      " [2.]\n",
      " [3.]\n",
      " [1.]\n",
      " [1.]\n",
      " [2.]\n",
      " [2.]\n",
      " [2.]\n",
      " [2.]\n",
      " [1.]\n",
      " [1.]\n",
      " [3.]\n",
      " [3.]\n",
      " [1.]\n",
      " [2.]\n",
      " [3.]\n",
      " [2.]\n",
      " [1.]\n",
      " [2.]\n",
      " [1.]\n",
      " [4.]\n",
      " [3.]\n",
      " [3.]\n",
      " [3.]\n",
      " [1.]\n",
      " [4.]\n",
      " [1.]\n",
      " [3.]\n",
      " [1.]\n",
      " [2.]\n",
      " [3.]\n",
      " [1.]\n",
      " [3.]\n",
      " [2.]\n",
      " [2.]\n",
      " [5.]\n",
      " [2.]\n",
      " [5.]\n",
      " [2.]\n",
      " [1.]\n",
      " [3.]\n",
      " [5.]\n",
      " [3.]\n",
      " [1.]\n",
      " [3.]\n",
      " [1.]\n",
      " [2.]\n",
      " [1.]\n",
      " [4.]\n",
      " [1.]\n",
      " [2.]\n",
      " [4.]\n",
      " [3.]\n",
      " [3.]\n",
      " [1.]\n",
      " [1.]\n",
      " [1.]\n",
      " [3.]\n",
      " [2.]\n",
      " [1.]\n",
      " [2.]\n",
      " [2.]\n",
      " [2.]\n",
      " [4.]\n",
      " [1.]\n",
      " [1.]\n",
      " [1.]\n",
      " [2.]\n",
      " [5.]\n",
      " [2.]\n",
      " [1.]\n",
      " [3.]\n",
      " [3.]\n",
      " [5.]\n",
      " [1.]\n",
      " [1.]\n",
      " [2.]\n",
      " [1.]\n",
      " [3.]\n",
      " [2.]\n",
      " [3.]\n",
      " [1.]\n",
      " [2.]\n",
      " [1.]\n",
      " [1.]\n",
      " [1.]\n",
      " [3.]\n",
      " [4.]\n",
      " [3.]\n",
      " [3.]\n",
      " [2.]\n",
      " [1.]\n",
      " [3.]\n",
      " [1.]\n",
      " [1.]\n",
      " [3.]\n",
      " [1.]\n",
      " [3.]\n",
      " [2.]\n",
      " [1.]\n",
      " [1.]\n",
      " [1.]\n",
      " [1.]\n",
      " [2.]\n",
      " [1.]\n",
      " [2.]\n",
      " [2.]\n",
      " [3.]\n",
      " [2.]\n",
      " [3.]\n",
      " [1.]\n",
      " [1.]\n",
      " [3.]\n",
      " [1.]\n",
      " [1.]\n",
      " [1.]\n",
      " [2.]\n",
      " [3.]\n",
      " [1.]\n",
      " [2.]\n",
      " [2.]\n",
      " [5.]\n",
      " [1.]\n",
      " [3.]\n",
      " [1.]\n",
      " [3.]\n",
      " [5.]\n",
      " [1.]\n",
      " [5.]\n",
      " [1.]\n",
      " [2.]\n",
      " [1.]\n",
      " [1.]\n",
      " [1.]\n",
      " [1.]\n",
      " [1.]\n",
      " [3.]\n",
      " [5.]\n",
      " [2.]\n",
      " [1.]\n",
      " [1.]\n",
      " [3.]\n",
      " [5.]\n",
      " [1.]\n",
      " [5.]\n",
      " [1.]\n",
      " [3.]]\n"
     ]
    }
   ],
   "source": [
    "print(Y_train)"
   ]
  },
  {
   "cell_type": "code",
   "execution_count": 78,
   "id": "f14c86be",
   "metadata": {},
   "outputs": [
    {
     "data": {
      "text/plain": [
       "(800, 6)"
      ]
     },
     "execution_count": 78,
     "metadata": {},
     "output_type": "execute_result"
    }
   ],
   "source": [
    "x_train.shape"
   ]
  },
  {
   "cell_type": "code",
   "execution_count": 86,
   "id": "26bcd0f6",
   "metadata": {},
   "outputs": [
    {
     "name": "stdout",
     "output_type": "stream",
     "text": [
      "[[ 2.12708528]\n",
      " [-0.14150891]\n",
      " [ 0.76464148]\n",
      " [-0.56502697]\n",
      " [-0.09497216]\n",
      " [ 0.3964485 ]]\n"
     ]
    }
   ],
   "source": [
    "x_train_transpose = np.transpose(x_train)\n",
    "K = np.dot(x_train_transpose , x_train)\n",
    "inverse_K = np.linalg.inv(K)\n",
    "theta = np.dot(inverse_K,np.dot(x_train_transpose , Y_train))\n",
    "print(theta)"
   ]
  },
  {
   "cell_type": "code",
   "execution_count": 87,
   "id": "cec30b5e",
   "metadata": {},
   "outputs": [
    {
     "name": "stdout",
     "output_type": "stream",
     "text": [
      "Predictions: [[3.71363303]\n",
      " [2.3433069 ]\n",
      " [2.38396458]\n",
      " [2.12708528]\n",
      " [3.71363303]\n",
      " [2.18435007]\n",
      " [3.14860606]\n",
      " [1.73227403]\n",
      " [1.61932309]\n",
      " [3.71363303]\n",
      " [1.46708615]\n",
      " [1.46708615]\n",
      " [1.56205831]\n",
      " [2.94899155]\n",
      " [2.89172677]\n",
      " [3.71363303]\n",
      " [2.32669979]\n",
      " [2.94899155]\n",
      " [2.55060984]\n",
      " [1.82724619]\n",
      " [2.08937791]\n",
      " [3.14860606]\n",
      " [3.61866088]\n",
      " [2.89172677]\n",
      " [2.12708528]\n",
      " [3.56139609]\n",
      " [1.78953882]\n",
      " [1.73227403]\n",
      " [1.98558287]\n",
      " [1.73227403]\n",
      " [1.73227403]\n",
      " [2.38396458]\n",
      " [1.73227403]\n",
      " [3.71363303]\n",
      " [2.18435007]\n",
      " [1.46708615]\n",
      " [2.38396458]\n",
      " [1.73227403]\n",
      " [2.55060984]\n",
      " [2.94899155]\n",
      " [2.55060984]\n",
      " [1.61932309]\n",
      " [2.94899155]\n",
      " [2.38396458]\n",
      " [1.82724619]\n",
      " [2.38396458]\n",
      " [1.56205831]\n",
      " [2.38396458]\n",
      " [2.55060984]\n",
      " [2.24245567]\n",
      " [2.38396458]\n",
      " [2.79675461]\n",
      " [3.14860606]\n",
      " [1.46708615]\n",
      " [1.52435094]\n",
      " [2.38396458]\n",
      " [1.73227403]\n",
      " [1.56205831]\n",
      " [2.94899155]\n",
      " [3.61866088]\n",
      " [2.12708528]\n",
      " [2.94899155]\n",
      " [1.52435094]\n",
      " [2.55060984]\n",
      " [2.55060984]\n",
      " [2.32669979]\n",
      " [1.46708615]\n",
      " [1.98558287]\n",
      " [3.71363303]\n",
      " [1.46708615]\n",
      " [1.56205831]\n",
      " [2.03211313]\n",
      " [1.52140064]\n",
      " [2.55060984]\n",
      " [1.73227403]\n",
      " [2.55060984]\n",
      " [1.46708615]\n",
      " [2.3433069 ]\n",
      " [1.46708615]\n",
      " [1.73227403]\n",
      " [3.65636825]\n",
      " [1.73227403]\n",
      " [2.55060984]\n",
      " [2.38396458]\n",
      " [2.08937791]\n",
      " [2.94899155]\n",
      " [4.47752076]\n",
      " [2.08642761]\n",
      " [1.46708615]\n",
      " [1.52435094]\n",
      " [2.38396458]\n",
      " [2.38396458]\n",
      " [1.73227403]\n",
      " [2.79675461]\n",
      " [2.79675461]\n",
      " [1.82724619]\n",
      " [1.73227403]\n",
      " [2.24245567]\n",
      " [1.61932309]\n",
      " [1.82724619]\n",
      " [2.03211313]\n",
      " [2.03211313]\n",
      " [1.82724619]\n",
      " [2.38396458]\n",
      " [2.94899155]\n",
      " [2.94899155]\n",
      " [1.46708615]\n",
      " [2.38396458]\n",
      " [6.77144521]\n",
      " [1.61932309]\n",
      " [1.73227403]\n",
      " [1.82724619]\n",
      " [2.55060984]\n",
      " [3.57212412]\n",
      " [3.91249379]\n",
      " [1.46708615]\n",
      " [2.24245567]\n",
      " [2.12708528]\n",
      " [2.24245567]\n",
      " [2.12708528]\n",
      " [2.03211313]\n",
      " [1.46708615]\n",
      " [2.03211313]\n",
      " [2.03211313]\n",
      " [1.73227403]\n",
      " [2.12708528]\n",
      " [1.73227403]\n",
      " [2.08937791]\n",
      " [2.94899155]\n",
      " [1.73227403]\n",
      " [1.78953882]\n",
      " [2.38396458]\n",
      " [3.71363303]\n",
      " [1.56205831]\n",
      " [5.14719009]\n",
      " [1.56205831]\n",
      " [1.56205831]\n",
      " [1.73227403]\n",
      " [2.94899155]\n",
      " [1.46708615]\n",
      " [2.38396458]\n",
      " [2.08642761]\n",
      " [2.79675461]\n",
      " [1.73227403]\n",
      " [1.56205831]\n",
      " [2.89172677]\n",
      " [2.12708528]\n",
      " [1.73227403]\n",
      " [3.71363303]\n",
      " [3.65636825]\n",
      " [1.57866542]\n",
      " [1.82724619]\n",
      " [2.12708528]\n",
      " [2.55060984]\n",
      " [1.46708615]\n",
      " [1.78953882]\n",
      " [1.98558287]\n",
      " [1.73227403]\n",
      " [1.82724619]\n",
      " [1.82724619]\n",
      " [2.09021873]\n",
      " [2.94899155]\n",
      " [1.46708615]\n",
      " [2.38396458]\n",
      " [1.82724619]\n",
      " [1.56205831]\n",
      " [2.04284116]\n",
      " [2.28899242]\n",
      " [2.94899155]\n",
      " [2.85401939]\n",
      " [2.38396458]\n",
      " [2.90833388]\n",
      " [1.73227403]\n",
      " [2.90833388]\n",
      " [2.38396458]\n",
      " [3.61866088]\n",
      " [2.38396458]\n",
      " [2.03211313]\n",
      " [1.73227403]\n",
      " [3.71363303]\n",
      " [2.55060984]\n",
      " [2.94899155]\n",
      " [1.98558287]\n",
      " [1.56205831]\n",
      " [1.82724619]\n",
      " [1.73227403]\n",
      " [2.38396458]\n",
      " [2.85401939]\n",
      " [1.46708615]\n",
      " [2.03211313]\n",
      " [2.12708528]\n",
      " [1.61932309]\n",
      " [2.94899155]\n",
      " [1.61932309]\n",
      " [1.61932309]\n",
      " [2.38396458]\n",
      " [2.38396458]\n",
      " [2.23172764]\n",
      " [3.0536339 ]\n",
      " [2.03211313]]\n"
     ]
    }
   ],
   "source": [
    "# Make predictions using the trained model\n",
    "\n",
    "y_pred = x_test.dot(theta)\n",
    "\n",
    "print(\"Predictions:\", y_pred)\n"
   ]
  },
  {
   "cell_type": "code",
   "execution_count": 90,
   "id": "44172ac6",
   "metadata": {},
   "outputs": [
    {
     "name": "stdout",
     "output_type": "stream",
     "text": [
      "1.0419672349664055\n"
     ]
    }
   ],
   "source": [
    "mse = np.mean((Y_test - y_pred)**2)\n",
    "print(mse)"
   ]
  },
  {
   "cell_type": "code",
   "execution_count": 91,
   "id": "44112f58",
   "metadata": {},
   "outputs": [
    {
     "name": "stdout",
     "output_type": "stream",
     "text": [
      "R-squared: 0.3550586562475826\n"
     ]
    }
   ],
   "source": [
    "from sklearn.metrics import r2_score\n",
    "\n",
    "# Calculate R-squared\n",
    "r2 = r2_score(Y_test, y_pred)\n",
    "\n",
    "print(\"R-squared:\", r2)"
   ]
  }
 ],
 "metadata": {
  "kernelspec": {
   "display_name": "Python 3 (ipykernel)",
   "language": "python",
   "name": "python3"
  },
  "language_info": {
   "codemirror_mode": {
    "name": "ipython",
    "version": 3
   },
   "file_extension": ".py",
   "mimetype": "text/x-python",
   "name": "python",
   "nbconvert_exporter": "python",
   "pygments_lexer": "ipython3",
   "version": "3.9.13"
  }
 },
 "nbformat": 4,
 "nbformat_minor": 5
}
